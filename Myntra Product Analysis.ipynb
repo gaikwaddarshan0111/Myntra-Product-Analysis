{
 "cells": [
  {
   "cell_type": "markdown",
   "id": "4665de5c",
   "metadata": {},
   "source": [
    "# Myntra Product Analysis"
   ]
  },
  {
   "cell_type": "code",
   "execution_count": 1,
   "id": "cc253791",
   "metadata": {},
   "outputs": [
    {
     "name": "stderr",
     "output_type": "stream",
     "text": [
      "UsageError: Line magic function `%matplotlibinline` not found.\n"
     ]
    }
   ],
   "source": [
    "#importing required libraries\n",
    "import numpy as np\n",
    "import pandas as pd\n",
    "import matplotlib.pyplot as plt\n",
    "import seaborn as sns\n",
    "%matplotlibinline"
   ]
  },
  {
   "cell_type": "code",
   "execution_count": 2,
   "id": "438e3e0a",
   "metadata": {},
   "outputs": [],
   "source": [
    "#import the dataset\n",
    "\n",
    "df = pd.read_csv(r\"C:\\Users\\gaikw\\Desktop\\Data Science\\Practice\\myntra_products_catalog.csv\")"
   ]
  },
  {
   "cell_type": "code",
   "execution_count": 3,
   "id": "1209a7e0",
   "metadata": {},
   "outputs": [
    {
     "data": {
      "text/html": [
       "<div>\n",
       "<style scoped>\n",
       "    .dataframe tbody tr th:only-of-type {\n",
       "        vertical-align: middle;\n",
       "    }\n",
       "\n",
       "    .dataframe tbody tr th {\n",
       "        vertical-align: top;\n",
       "    }\n",
       "\n",
       "    .dataframe thead th {\n",
       "        text-align: right;\n",
       "    }\n",
       "</style>\n",
       "<table border=\"1\" class=\"dataframe\">\n",
       "  <thead>\n",
       "    <tr style=\"text-align: right;\">\n",
       "      <th></th>\n",
       "      <th>ProductID</th>\n",
       "      <th>ProductName</th>\n",
       "      <th>ProductBrand</th>\n",
       "      <th>Gender</th>\n",
       "      <th>Price (INR)</th>\n",
       "      <th>NumImages</th>\n",
       "      <th>Description</th>\n",
       "      <th>PrimaryColor</th>\n",
       "    </tr>\n",
       "  </thead>\n",
       "  <tbody>\n",
       "    <tr>\n",
       "      <th>0</th>\n",
       "      <td>10017413</td>\n",
       "      <td>DKNY Unisex Black &amp; Grey Printed Medium Trolle...</td>\n",
       "      <td>DKNY</td>\n",
       "      <td>Unisex</td>\n",
       "      <td>11745</td>\n",
       "      <td>7</td>\n",
       "      <td>Black and grey printed medium trolley bag, sec...</td>\n",
       "      <td>Black</td>\n",
       "    </tr>\n",
       "    <tr>\n",
       "      <th>1</th>\n",
       "      <td>10016283</td>\n",
       "      <td>EthnoVogue Women Beige &amp; Grey Made to Measure ...</td>\n",
       "      <td>EthnoVogue</td>\n",
       "      <td>Women</td>\n",
       "      <td>5810</td>\n",
       "      <td>7</td>\n",
       "      <td>Beige &amp; Grey made to measure kurta with churid...</td>\n",
       "      <td>Beige</td>\n",
       "    </tr>\n",
       "    <tr>\n",
       "      <th>2</th>\n",
       "      <td>10009781</td>\n",
       "      <td>SPYKAR Women Pink Alexa Super Skinny Fit High-...</td>\n",
       "      <td>SPYKAR</td>\n",
       "      <td>Women</td>\n",
       "      <td>899</td>\n",
       "      <td>7</td>\n",
       "      <td>Pink coloured wash 5-pocket high-rise cropped ...</td>\n",
       "      <td>Pink</td>\n",
       "    </tr>\n",
       "    <tr>\n",
       "      <th>3</th>\n",
       "      <td>10015921</td>\n",
       "      <td>Raymond Men Blue Self-Design Single-Breasted B...</td>\n",
       "      <td>Raymond</td>\n",
       "      <td>Men</td>\n",
       "      <td>5599</td>\n",
       "      <td>5</td>\n",
       "      <td>Blue self-design bandhgala suitBlue self-desig...</td>\n",
       "      <td>Blue</td>\n",
       "    </tr>\n",
       "    <tr>\n",
       "      <th>4</th>\n",
       "      <td>10017833</td>\n",
       "      <td>Parx Men Brown &amp; Off-White Slim Fit Printed Ca...</td>\n",
       "      <td>Parx</td>\n",
       "      <td>Men</td>\n",
       "      <td>759</td>\n",
       "      <td>5</td>\n",
       "      <td>Brown and off-white printed casual shirt, has ...</td>\n",
       "      <td>White</td>\n",
       "    </tr>\n",
       "  </tbody>\n",
       "</table>\n",
       "</div>"
      ],
      "text/plain": [
       "   ProductID                                        ProductName ProductBrand  \\\n",
       "0   10017413  DKNY Unisex Black & Grey Printed Medium Trolle...         DKNY   \n",
       "1   10016283  EthnoVogue Women Beige & Grey Made to Measure ...   EthnoVogue   \n",
       "2   10009781  SPYKAR Women Pink Alexa Super Skinny Fit High-...       SPYKAR   \n",
       "3   10015921  Raymond Men Blue Self-Design Single-Breasted B...      Raymond   \n",
       "4   10017833  Parx Men Brown & Off-White Slim Fit Printed Ca...         Parx   \n",
       "\n",
       "   Gender  Price (INR)  NumImages  \\\n",
       "0  Unisex        11745          7   \n",
       "1   Women         5810          7   \n",
       "2   Women          899          7   \n",
       "3     Men         5599          5   \n",
       "4     Men          759          5   \n",
       "\n",
       "                                         Description PrimaryColor  \n",
       "0  Black and grey printed medium trolley bag, sec...        Black  \n",
       "1  Beige & Grey made to measure kurta with churid...        Beige  \n",
       "2  Pink coloured wash 5-pocket high-rise cropped ...         Pink  \n",
       "3  Blue self-design bandhgala suitBlue self-desig...         Blue  \n",
       "4  Brown and off-white printed casual shirt, has ...        White  "
      ]
     },
     "execution_count": 3,
     "metadata": {},
     "output_type": "execute_result"
    }
   ],
   "source": [
    "df.head()"
   ]
  },
  {
   "cell_type": "code",
   "execution_count": 4,
   "id": "9b5755ff",
   "metadata": {},
   "outputs": [
    {
     "name": "stdout",
     "output_type": "stream",
     "text": [
      "<class 'pandas.core.frame.DataFrame'>\n",
      "RangeIndex: 12491 entries, 0 to 12490\n",
      "Data columns (total 8 columns):\n",
      " #   Column        Non-Null Count  Dtype \n",
      "---  ------        --------------  ----- \n",
      " 0   ProductID     12491 non-null  int64 \n",
      " 1   ProductName   12491 non-null  object\n",
      " 2   ProductBrand  12491 non-null  object\n",
      " 3   Gender        12491 non-null  object\n",
      " 4   Price (INR)   12491 non-null  int64 \n",
      " 5   NumImages     12491 non-null  int64 \n",
      " 6   Description   12491 non-null  object\n",
      " 7   PrimaryColor  11597 non-null  object\n",
      "dtypes: int64(3), object(5)\n",
      "memory usage: 780.8+ KB\n"
     ]
    }
   ],
   "source": [
    "df.info()"
   ]
  },
  {
   "cell_type": "code",
   "execution_count": 5,
   "id": "4a826a8e",
   "metadata": {},
   "outputs": [
    {
     "data": {
      "text/plain": [
       "(12491, 8)"
      ]
     },
     "execution_count": 5,
     "metadata": {},
     "output_type": "execute_result"
    }
   ],
   "source": [
    "df.shape"
   ]
  },
  {
   "cell_type": "code",
   "execution_count": 6,
   "id": "9bc08ccb",
   "metadata": {},
   "outputs": [
    {
     "data": {
      "text/html": [
       "<div>\n",
       "<style scoped>\n",
       "    .dataframe tbody tr th:only-of-type {\n",
       "        vertical-align: middle;\n",
       "    }\n",
       "\n",
       "    .dataframe tbody tr th {\n",
       "        vertical-align: top;\n",
       "    }\n",
       "\n",
       "    .dataframe thead th {\n",
       "        text-align: right;\n",
       "    }\n",
       "</style>\n",
       "<table border=\"1\" class=\"dataframe\">\n",
       "  <thead>\n",
       "    <tr style=\"text-align: right;\">\n",
       "      <th></th>\n",
       "      <th>ProductID</th>\n",
       "      <th>Price (INR)</th>\n",
       "      <th>NumImages</th>\n",
       "    </tr>\n",
       "  </thead>\n",
       "  <tbody>\n",
       "    <tr>\n",
       "      <th>count</th>\n",
       "      <td>1.249100e+04</td>\n",
       "      <td>12491.000000</td>\n",
       "      <td>12491.000000</td>\n",
       "    </tr>\n",
       "    <tr>\n",
       "      <th>mean</th>\n",
       "      <td>9.917160e+06</td>\n",
       "      <td>1452.660956</td>\n",
       "      <td>4.913698</td>\n",
       "    </tr>\n",
       "    <tr>\n",
       "      <th>std</th>\n",
       "      <td>1.438006e+06</td>\n",
       "      <td>2118.503976</td>\n",
       "      <td>1.092333</td>\n",
       "    </tr>\n",
       "    <tr>\n",
       "      <th>min</th>\n",
       "      <td>1.012060e+05</td>\n",
       "      <td>90.000000</td>\n",
       "      <td>1.000000</td>\n",
       "    </tr>\n",
       "    <tr>\n",
       "      <th>25%</th>\n",
       "      <td>1.006215e+07</td>\n",
       "      <td>649.000000</td>\n",
       "      <td>5.000000</td>\n",
       "    </tr>\n",
       "    <tr>\n",
       "      <th>50%</th>\n",
       "      <td>1.015463e+07</td>\n",
       "      <td>920.000000</td>\n",
       "      <td>5.000000</td>\n",
       "    </tr>\n",
       "    <tr>\n",
       "      <th>75%</th>\n",
       "      <td>1.021565e+07</td>\n",
       "      <td>1499.000000</td>\n",
       "      <td>5.000000</td>\n",
       "    </tr>\n",
       "    <tr>\n",
       "      <th>max</th>\n",
       "      <td>1.027514e+07</td>\n",
       "      <td>63090.000000</td>\n",
       "      <td>10.000000</td>\n",
       "    </tr>\n",
       "  </tbody>\n",
       "</table>\n",
       "</div>"
      ],
      "text/plain": [
       "          ProductID   Price (INR)     NumImages\n",
       "count  1.249100e+04  12491.000000  12491.000000\n",
       "mean   9.917160e+06   1452.660956      4.913698\n",
       "std    1.438006e+06   2118.503976      1.092333\n",
       "min    1.012060e+05     90.000000      1.000000\n",
       "25%    1.006215e+07    649.000000      5.000000\n",
       "50%    1.015463e+07    920.000000      5.000000\n",
       "75%    1.021565e+07   1499.000000      5.000000\n",
       "max    1.027514e+07  63090.000000     10.000000"
      ]
     },
     "execution_count": 6,
     "metadata": {},
     "output_type": "execute_result"
    }
   ],
   "source": [
    "df.describe()"
   ]
  },
  {
   "cell_type": "code",
   "execution_count": 7,
   "id": "71f20b11",
   "metadata": {},
   "outputs": [
    {
     "data": {
      "text/plain": [
       "ProductID         0\n",
       "ProductName       0\n",
       "ProductBrand      0\n",
       "Gender            0\n",
       "Price (INR)       0\n",
       "NumImages         0\n",
       "Description       0\n",
       "PrimaryColor    894\n",
       "dtype: int64"
      ]
     },
     "execution_count": 7,
     "metadata": {},
     "output_type": "execute_result"
    }
   ],
   "source": [
    "#checking null values and elemenate them\n",
    "\n",
    "df.isnull().sum()"
   ]
  },
  {
   "cell_type": "markdown",
   "id": "46bb836f",
   "metadata": {},
   "source": [
    "# as we see that there are 894 null values in primary color \n",
    "as it is a color value we can replace the null value as \"mixed color\""
   ]
  },
  {
   "cell_type": "code",
   "execution_count": 8,
   "id": "8d10078c",
   "metadata": {},
   "outputs": [],
   "source": [
    "df['PrimaryColor'] = df['PrimaryColor'].fillna('MixedColor')"
   ]
  },
  {
   "cell_type": "code",
   "execution_count": 9,
   "id": "ef27245d",
   "metadata": {},
   "outputs": [
    {
     "data": {
      "text/plain": [
       "ProductID       0\n",
       "ProductName     0\n",
       "ProductBrand    0\n",
       "Gender          0\n",
       "Price (INR)     0\n",
       "NumImages       0\n",
       "Description     0\n",
       "PrimaryColor    0\n",
       "dtype: int64"
      ]
     },
     "execution_count": 9,
     "metadata": {},
     "output_type": "execute_result"
    }
   ],
   "source": [
    "#lets check null values again\n",
    "\n",
    "df.isnull().sum()"
   ]
  },
  {
   "cell_type": "code",
   "execution_count": 10,
   "id": "18504218",
   "metadata": {},
   "outputs": [
    {
     "data": {
      "text/plain": [
       "array(['DKNY', 'EthnoVogue', 'SPYKAR', 'Raymond', 'Parx', 'SHOWOFF',\n",
       "       'Kenneth Cole', 'Police', 'Vishudh', 'Being Human', 'Homesake',\n",
       "       'SEJ by Nisha Gupta', 'YAK YAK', 'PARFAIT', 'Michael Kors',\n",
       "       'HIGHLANDER', 'JEWEL JUNCTION', 'ID', 'Story@home',\n",
       "       'Gini and Jony', 'Sera', 'AccessHer', 'Alcis',\n",
       "       'Difference of Opinion', 'Tokyo Talkies', 'ANNA SUI',\n",
       "       'her by invictus', 'Soie', 'Lara Karen', 'Urban Dog', 'ahilya',\n",
       "       'VASTRAMAY', 'Campus Sutra', 'FIDO DIDO', 'MIAH Decor', 'BuckleUp',\n",
       "       'Peter England', 'AIGNER', 'Lady Lyka', 'Park Avenue', 'Roadster',\n",
       "       'U.S. Polo Assn. Denim Co.', 'Sweet Dreams', 'Kazo', 'Stylo Bug',\n",
       "       'Bvlgari', 'Qraa Men', 'GAS', 'WITH', 'ZUSH', 'JBN Creation',\n",
       "       'U.S. Polo Assn. Kids', 'DressBerry', 'ColorPlus', 'Lakme',\n",
       "       'Allen Solly Woman', 'Palm Tree', 'Arrow', 'DAVID BECKHAM',\n",
       "       'MANGO', 'Carrera', 'ROMEE', 'TAYHAA', 'Ishin', 'Shoe Couture',\n",
       "       'HARBORNBAY', 'Keds', 'Rozia', 'Aj DEZInES', 'Monte Carlo', 'even',\n",
       "       'ether', 'Crimsoune Club', 'Russell Athletic', 'MIMOSA', 'Puma',\n",
       "       'Blackberrys', 'Playdate', 'Rocia', 'Marvel by Wear Your Mind',\n",
       "       'Annabelle by Pantaloons', 'berrytree', 'SIMON CARTER LONDON',\n",
       "       'Beli', 'Nautica', 'Jn Joy', 'THE SILHOUETTE STORE', 'Xpose',\n",
       "       'MBE', 'Mast & Harbour', 'JC Collection', 'GUESS', 'NEUDIS',\n",
       "       'StyleStone', 'SASSAFRAS', 'United Colors of Benetton', 'VLCC',\n",
       "       'Kook N Keech Disney', 'Bubblegummers', 'Hoopers',\n",
       "       'Peter England Casuals', 'Honey by Pantaloons', 'Pink Cow',\n",
       "       'DOROTHY PERKINS', 'Crew STREET', 'Bhama Couture', 'Zippo',\n",
       "       'Daffodils', 'aramis', 'C9 AIRWEAR', 'Oxolloxo', 'Soumya', 'Crocs',\n",
       "       'Carlton London', 'HERE&NOW', 'French Connection', 'Next Look',\n",
       "       'XYXX', 'shaze', 'Bitiya by Bhama', 'Geox', 'Tulsattva',\n",
       "       'ExclusiveLane', 'SHISEIDO', 'MSC', 'Anekaant', 'Innisfree',\n",
       "       'Wintage', 'LOCOMOTIVE', 'Bene Kleed', 'Varanga',\n",
       "       'HRX by Hrithik Roshan', 'Avira Home', 'Force 10', 'maxima',\n",
       "       'Aapno Rajasthan', 'Fortune', 'Moedbuille', 'Blue Saint', 'MASPAR',\n",
       "       'W', 'SCORPIUS', 'Ecko Unltd', 'BERING', 'Healers', 'Kvsfab',\n",
       "       'MOVADO', 'CINOCCI', 'Mitera', 'Harvard', 'Ojjasvi', 'Wild stone',\n",
       "       'AVANT-GARDE PARIS', 'Gliders', 'U&F', 'Abhishti', 'Dreamscape',\n",
       "       'OddCroft', 'Flying Machine', 'IT luggage', 'Nike', 'One Friday',\n",
       "       'Indibelle', 'Dynamocks', 'Arrow New York', 'Titan', 'Zoop',\n",
       "       'Levis', 'IVOC', 'Athena', 'Elizabeth Arden', 'Arrow Sport',\n",
       "       'Red Tape', 'PANAHI', 'Veni Vidi Vici', 'CODE by Lifestyle',\n",
       "       'Fame Forever by Lifestyle', 'Sonata', 'Yuris', 'Sherrif Shoes',\n",
       "       'TIMESMITH', 'Cherry Crumble', 'Senorita', 'CHUTPUT',\n",
       "       'Slumber Jill', 'Metro', 'Marks & Spencer', 'Fastrack',\n",
       "       'DODO & MOA', 'FabSeasons', 'Shaily', 'Mirchi Fashion',\n",
       "       'Sergio Tacchini', 'Janasya', 'Bossini', 'Rajnandini',\n",
       "       'Call It Spring', 'Coolers', 'Chhabra 555', 'LA LOFT', 'Cottinfab',\n",
       "       'Calvin Klein', 'Liberty', 'IMYOUNG', 'CLAY CRAFT',\n",
       "       'Crunchy Fashion', 'Respiro', 'trueBrowns', 'Trend Arrest',\n",
       "       'Besiva', 'INCOLOR', 'Kraus Jeans', 'RICHARD PARKER by Pantaloons',\n",
       "       'Mali Fionna', 'Kryptic', 'San Frissco', 'You Got Plan B',\n",
       "       'The Kaftan Company', 'Simply', 'Infuzze', 'Sir Corbett',\n",
       "       'HOME DECOR INDIA', 'Vero Moda', 'Be Indi', 'Da Intimo', 'Camey',\n",
       "       'Solemio', 'MsFQ', 'Forever New', 'Killer', 'AURELIA',\n",
       "       'Miss Chase', 'Saadgi', 'Lee Cooper', 'Foolzy', 'ZHEIA',\n",
       "       'Friskers', 'UCLA', 'Genie', 'Femmora', 'Fos Lighting',\n",
       "       'FirstClap', 'Clovia', 'Style Quotient', 'Rajasthan Decor',\n",
       "       'SG YUVRAJ', 'URBAN TRIBE', 'CASIO', 'VRINDA', 'Lady Stark',\n",
       "       'Newton', 'Bodycare', 'Alvaro Castagnino', 'Organic Harvest',\n",
       "       'Campus', 'Free Authority', 'Dennmarks', 'Voylla', 'Wish Karo',\n",
       "       'MBOSS', 'Mochi', 'ELLE', 'OBSESSIONS', 'Living Essence',\n",
       "       'GIORDANO', 'Hi RELs', 'DDecor', 'INVICTUS', 'Evoke 1899',\n",
       "       'Newport', 'Schwarzkopf PROFESSIONAL', 'Louis Philippe', 'PANIT',\n",
       "       'SELECTED', 'SOJANYA', 'Sangria', 'Divine Casa', 'Unravel India',\n",
       "       'Steenbok', 'Belle Fille', 'Kittens', 'Slub', 'Blissta', 'Alena',\n",
       "       'SWHF', 'JUMP USA', 'St. Ives', 'FabAlley', 'Nucleus',\n",
       "       'Home Sparkle', 'shiloh', 'Allen Solly', 'KLEIO', 'Maniac',\n",
       "       'Globus', 'Fourwalls', 'AKKRITI BY PANTALOONS', 'Genius',\n",
       "       'Bohemia Crystal', 'EQUINOX', 'Zink London', 'YASH GALLERY',\n",
       "       'Sparx', 'Van Heusen', 'YK', 'Blue Giraffe', 'Silvermerc Designs',\n",
       "       'Black coffee', 'Jacques Lemans', 'ZIYAA',\n",
       "       'SKULT by Shahid Kapoor', 'PERFKT-U', 'Zeal', 'Cortina', 'plusS',\n",
       "       'V Dot', 'Shoetopia', 'Eavan', 'Masch Sports', 'Devis', 'Namyaa',\n",
       "       'ONLY', 'Eske', 'MIWAY', 'Smiley World', 'Maserati', 'Archies',\n",
       "       'Marie Claire', 'Chumbak', 'Aber & Q', 'People', 'GMF', 'ABELINO',\n",
       "       'COVER STORY', 'Karmic Vision', 'Bonjour', 'Deco Window', 'ADIVA',\n",
       "       'Latin Quarters', 'Moda Rapido', 'Indian Terrain', 'RARE', 'SOLES',\n",
       "       'Lavie', 'Truffle Collection', 'GAP', 'KARATCART', 'Priyaasi',\n",
       "       'Mine4Nine', 'CHROME & CORAL', 'FAUSTO',\n",
       "       'ADORN by Nikita Ladiwala', 'Hancock', 'Calvin Klein Jeans',\n",
       "       'Secret Temptation', 'HEATWAVE', 'BownBee', 'Baggit', 'Force NXT',\n",
       "       'URBANE', 'Canary London', 'Jack & Jones', 'fancy mart',\n",
       "       'ADORENITE', 'Hypernation', 'Pantaloons Junior',\n",
       "       'Minions by Kook N Keech', 'Caprese', 'SUITLTD', 'Harpa', 'Taavi',\n",
       "       'Geroo Jaipur', 'Bamboo Tree Jewels', 'Kappa', 'Sher Singh',\n",
       "       'Morpheme Remedies', 'KiddoPanti', 'ANTS', 'Allen Cooper',\n",
       "       'Pure Home and Living', 'ComicSense.xyz', 'Louis Philippe Sport',\n",
       "       'Monrow', 'breya', 'RANGMANCH BY PANTALOONS', 'Wonder Woman',\n",
       "       'Melange by Lifestyle', 'CERIZ', 'Eego Italy', 'Knotyy', 'mf',\n",
       "       'Chemistry', 'TREEMODA', 'Chambor', 'OOMPH', 'KazarMax', 'Chkokko',\n",
       "       'Duke', 'Club York', 'BBLUNT', 'Jewels Galaxy', 'Molly & Michel',\n",
       "       'The Beauty Co.', 'Libas', 'Pipa Bella', 'FOSH', 'Freehand',\n",
       "       'Ed Hardy', 'Aditi Wasan', 'Akiva', 'Franco Leone', 'Mufti',\n",
       "       '7Rainbow', 'beevee', 'Yellow Jeans', 'Soludos', 'Tresmode',\n",
       "       'bigbanana', 'Rex Straut Jeans', 'hummel', 'E2O',\n",
       "       'CAVALLO by Linen Club', 'Tommy Hilfiger', 'PRESTO', 'Tistabene',\n",
       "       'boAt', 'DENNISON', 'U.S. Polo Assn.', \"Kurti's by Menka\",\n",
       "       'Saree mall', 'Forca by Lifestyle', 'VALIOSAA',\n",
       "       'Ginger by Lifestyle', 'Iti', 'Stylee LIFESTYLE', 'JAINISH',\n",
       "       'Cation', 'WROGN', 'GODS', 'Disney by Wear Your Mind',\n",
       "       'Calvin Klein Underwear', 'Ayesha', 'Woodland', 'INDYA',\n",
       "       'meriggiare', 'BIANCA', 'Kook N Keech Marvel', 'Just Wow',\n",
       "       'Golden Peacock', 'Rosaline', 'Wildcraft', 'Rubans',\n",
       "       'Zaveri Pearls', 'CUTECUMBER', 'HAMMER', 'PrettyCat',\n",
       "       'Johnny Bravo by Kook N Keech', 'Zivame', 'Kook N Keech Garfield',\n",
       "       'Tissu', 'Turkish Bath', 'Nature Casuals', 'Unshaven',\n",
       "       'GIO COLLECTION', 'YWC', 'Kraft Cellar', 'Saral Home',\n",
       "       'justpeachy', 'GERUA', 'Skechers', 'Studio Voylla',\n",
       "       'Bruno Manetti', 'Invincible', 'Global Desi', 'yelloe',\n",
       "       'American Crew', 'Blisscovered', 'Alina decor', 'MANOHARI',\n",
       "       'Aujjessa', 't-base', 'NBA', 'RUF & TUF', 'SPRAY GROUND',\n",
       "       'UNKNOWN by Ayesha', 'WILD WEST', 'Pure Play', 'PUMA Motorsport',\n",
       "       '20Dresses', 'Enamor', 'Aerosoles', 'Garmin', 'Street Style Store',\n",
       "       'Alom', 'DOT & KEY', 'pinwheel', 'Lotto', 'IZOD', 'Ruosh',\n",
       "       'Aarika', 'Envy', 'Reebok Classic', 'FEVER', 'Madame',\n",
       "       '612 league', 'Tossido', 'WISSTLER', 'AHIKA', 'Jompers', 'Yuuki',\n",
       "       'Ahalyaa', 'Z-ZOOM', 'Van Heusen Woman', 'Blacksmith', 'fungus',\n",
       "       'Naari', 'Van Heusen Sport', 'Lady Love', 'NIZA', 'Saint G',\n",
       "       'HIROLAS', 'The Pink Moon', 'MISH', 'Vozaf',\n",
       "       'Louis Philippe Jeans', 'Indo Era', 'CALFNERO',\n",
       "       'The House of Tara', 'Kids Ville', 'The Chennai Silks', 'Superdry',\n",
       "       'Fox', 'Anouk', 'OFF LIMITS', 'Frozen', 'DIXCY SCOTT', 'BEARDO',\n",
       "       'Sherlock', 'FS Mini Klub', 'De Moza', 'VarEesha', 'Zelocity',\n",
       "       'Peanuts', 'Denizen From Levis', 'Ferraiolo', 'Yaadleen',\n",
       "       'Peter England Elite', 'SEIKO', 'TALES & STORIES',\n",
       "       'Daily Life Forever52', 'The Vanca', 'AND', 'The Indian Garage Co',\n",
       "       'Voyage', 'Reebok', 'SCOUP', 'GNIST', 'Biba', 'RAISIN', 'AASK',\n",
       "       'FABNEST', 'Signature Sole', 'Batman', 'STAR WARS', 'SWAROVSKI',\n",
       "       'FUGAZEE', 'KAMA AYURVEDA', 'ADIDAS Originals', 'Fusion Beats',\n",
       "       'bodha', 'Peora', 'Amante', 'naughty ninos', 'Rajesh Silk Mills',\n",
       "       'ADIDAS', 'Allen Solly Sport', 'Krafted with Happiness',\n",
       "       'Golden Girl', 'RUGSMITH', 'SKAGEN', 'Masculino Latino',\n",
       "       'Lychee bags', 'Ira Soleil', 'CORSICA', 'Instacrush',\n",
       "       'SCUDERIA FERRARI', 'Superman', 'DailyObjects', 'The Dry State',\n",
       "       'Makeup Revolution London', 'Orange and Orchid', 'CAPTAIN AMERICA',\n",
       "       'Teakwood Leathers', 'Ponds', 'Inc 5', 'EK DO DHAI', 'Natilene',\n",
       "       'OBOW', 'Basics', 'ESBEDA', 'TAG EYE', 'Proline Active',\n",
       "       'FableStreet', 'amraoo', 'Varkala Silk Sarees', 'LilPicks',\n",
       "       'Lacoste', 'Purple Feather', 'FURO by Red Chief', 'WESTCLO',\n",
       "       'FOREVER 21', 'Barbie by Many Frocks &', 'Khushal K',\n",
       "       'Rangoli Jaipur', 'I AM FOR YOU', 'Soulflower',\n",
       "       'Allen Solly Junior', 'Hubberholme', 'BOLLYGLOW', 'Braun',\n",
       "       'DUGRISTYLE', 'HUNTER 1114', 'FILA', 'Vastraa Fusion', 'Renka',\n",
       "       'U.S. Polo Assn. Women', 'Antheaa', 'Tikhi Imli', 'Wear Your Mind',\n",
       "       'Moon Dust', 'Philips', 'AWW HUNNIE', 'Purple State', 'Kidling',\n",
       "       'Twisha', 'Genius18', 'Pepe Jeans', 'Plum', 'Lapis O Lupo',\n",
       "       'SHINGORA', 'Lino Perros', 'Revlon', 'MomToBe', 'DEYANN',\n",
       "       'Nauti Nati', 'FLAVIDO', 'QUIERO', 'Inddus', 'Laceandme',\n",
       "       'Maybelline', 'STREET 9', 'Rain & Rainbow', 'Campana', 'ToniQ',\n",
       "       'OSHKOSH Bgosh', 'Qurvii', 'ULRIC DE VARENS', 'BUKKUM', 'KID1',\n",
       "       'Hidesign', 'Sonari', 'Wrangler', 'Ives', 'Noble Faith', 'PURYS',\n",
       "       'BEAT LONDON by PEPE JEANS', 'Chopard', 'House of Pataudi', 'INVU',\n",
       "       'CAT', 'ESPRIT', 'PRITA', 'Satrani', '109F', 'SWISS MILITARY',\n",
       "       'Carven', 'Stupid Cupid'], dtype=object)"
      ]
     },
     "execution_count": 10,
     "metadata": {},
     "output_type": "execute_result"
    }
   ],
   "source": [
    "#lets check all brand available\n",
    "df.ProductBrand.unique()"
   ]
  },
  {
   "cell_type": "code",
   "execution_count": 11,
   "id": "16c477f8",
   "metadata": {},
   "outputs": [
    {
     "data": {
      "text/plain": [
       "677"
      ]
     },
     "execution_count": 11,
     "metadata": {},
     "output_type": "execute_result"
    }
   ],
   "source": [
    "total_brand = len(pd.unique(df[\"ProductBrand\"]))\n",
    "\n",
    "total_brand"
   ]
  },
  {
   "cell_type": "code",
   "execution_count": 12,
   "id": "f0c71276",
   "metadata": {},
   "outputs": [
    {
     "name": "stdout",
     "output_type": "stream",
     "text": [
      "Categories in Gender:  ['Unisex' 'Women' 'Men' 'Boys' 'Girls' 'Unisex Kids']\n"
     ]
    }
   ],
   "source": [
    "#different categories\n",
    "print(\"Categories in Gender: \",df.Gender.unique())"
   ]
  },
  {
   "cell_type": "markdown",
   "id": "f75f919f",
   "metadata": {},
   "source": [
    "Let us check maximum , minimum , average (mean) price from dataset"
   ]
  },
  {
   "cell_type": "code",
   "execution_count": 13,
   "id": "c73bcddb",
   "metadata": {},
   "outputs": [
    {
     "name": "stdout",
     "output_type": "stream",
     "text": [
      "Maximum price : 63090\n",
      "Minimum Price:  90\n",
      "Average(Mean) Price:  1452.6609558882396\n"
     ]
    }
   ],
   "source": [
    "print(\"Maximum price :\",df['Price (INR)'].max())\n",
    "print(\"Minimum Price: \",df['Price (INR)'].min())\n",
    "print(\"Average(Mean) Price: \",df['Price (INR)'].mean())"
   ]
  },
  {
   "cell_type": "markdown",
   "id": "a30c91ff",
   "metadata": {},
   "source": [
    "Let us check different colour avialable "
   ]
  },
  {
   "cell_type": "code",
   "execution_count": 14,
   "id": "dfc46462",
   "metadata": {},
   "outputs": [
    {
     "data": {
      "text/plain": [
       "array([' Black', ' Beige', ' Pink', 'Blue', ' White', ' Brown',\n",
       "       ' Burgundy', ' Red', ' Green', 'MixedColor', ' Maroon', ' Navy',\n",
       "       ' Gold', ' Yellow', ' Grey', ' Platinum', ' Silver', ' Khaki',\n",
       "       ' Mustard', ' Lavender', ' Matte', ' Rose', ' Charcoal', ' Purple',\n",
       "       ' Orange', ' Peach', ' Magenta', ' Bronze'], dtype=object)"
      ]
     },
     "execution_count": 14,
     "metadata": {},
     "output_type": "execute_result"
    }
   ],
   "source": [
    "df.PrimaryColor.unique()"
   ]
  },
  {
   "cell_type": "markdown",
   "id": "448bd868",
   "metadata": {},
   "source": [
    "# Exploratory Data Analysis (EDA)"
   ]
  },
  {
   "cell_type": "code",
   "execution_count": 15,
   "id": "16c3ccff",
   "metadata": {},
   "outputs": [
    {
     "data": {
      "text/plain": [
       "<AxesSubplot:title={'center':'Top 5 Popular Brands'}>"
      ]
     },
     "execution_count": 15,
     "metadata": {},
     "output_type": "execute_result"
    },
    {
     "data": {
      "image/png": "[encoded data removed]",
      "text/plain": [
       "<Figure size 432x288 with 1 Axes>"
      ]
     },
     "metadata": {
      "needs_background": "light"
     },
     "output_type": "display_data"
    }
   ],
   "source": [
    "#Let us check top 5 brand\n",
    "\n",
    "df['ProductBrand'].value_counts()[:5].plot(kind='bar',title='Top 5 Popular Brands')"
   ]
  },
  {
   "cell_type": "code",
   "execution_count": 16,
   "id": "4359db26",
   "metadata": {},
   "outputs": [
    {
     "data": {
      "text/plain": [
       "<AxesSubplot:xlabel='ProductBrand'>"
      ]
     },
     "execution_count": 16,
     "metadata": {},
     "output_type": "execute_result"
    },
    {
     "data": {
      "image/png": "[encoded data removed]",
      "text/plain": [
       "<Figure size 432x288 with 1 Axes>"
      ]
     },
     "metadata": {
      "needs_background": "light"
     },
     "output_type": "display_data"
    }
   ],
   "source": [
    "#Let us check top 5 costly brand\n",
    "\n",
    "df1= df.groupby('ProductBrand')['Price (INR)'].mean().sort_values(ascending=False).head(5)\n",
    "df1.plot.bar()"
   ]
  },
  {
   "cell_type": "code",
   "execution_count": 17,
   "id": "8089ebe1",
   "metadata": {},
   "outputs": [
    {
     "data": {
      "text/plain": [
       "<AxesSubplot:xlabel='ProductBrand'>"
      ]
     },
     "execution_count": 17,
     "metadata": {},
     "output_type": "execute_result"
    },
    {
     "data": {
      "image/png": "[encoded data removed]",
      "text/plain": [
       "<Figure size 432x288 with 1 Axes>"
      ]
     },
     "metadata": {
      "needs_background": "light"
     },
     "output_type": "display_data"
    }
   ],
   "source": [
    "#Similarly let us check top 5 cheap brand\n",
    "\n",
    "df2=df.groupby('ProductBrand')['Price (INR)'].mean().sort_values(ascending=True).head(5)\n",
    "df2.plot.bar()"
   ]
  },
  {
   "cell_type": "code",
   "execution_count": 18,
   "id": "e5e34890",
   "metadata": {},
   "outputs": [
    {
     "data": {
      "text/plain": [
       "<AxesSubplot:ylabel='ProductID'>"
      ]
     },
     "execution_count": 18,
     "metadata": {},
     "output_type": "execute_result"
    },
    {
     "data": {
      "image/png": "[encoded data removed]",
      "text/plain": [
       "<Figure size 432x288 with 1 Axes>"
      ]
     },
     "metadata": {},
     "output_type": "display_data"
    }
   ],
   "source": [
    "#Now lets see that the given data set which gender has how many products\n",
    "\n",
    "df.groupby('Gender')['ProductID'].count().plot.pie(autopct=\"%1.1f%%\")"
   ]
  },
  {
   "cell_type": "code",
   "execution_count": 24,
   "id": "e880a02d",
   "metadata": {},
   "outputs": [
    {
     "data": {
      "text/plain": [
       "<AxesSubplot:xlabel='PrimaryColor'>"
      ]
     },
     "execution_count": 24,
     "metadata": {},
     "output_type": "execute_result"
    },
    {
     "data": {
      "image/png": "[encoded data removed]",
      "text/plain": [
       "<Figure size 432x288 with 1 Axes>"
      ]
     },
     "metadata": {
      "needs_background": "light"
     },
     "output_type": "display_data"
    }
   ],
   "source": [
    "#Most preferable color\n",
    "\n",
    "df.groupby('PrimaryColor')['ProductID'].count().plot.bar()\n"
   ]
  },
  {
   "cell_type": "code",
   "execution_count": null,
   "id": "db670ab8",
   "metadata": {},
   "outputs": [],
   "source": [
    "\n"
   ]
  }
 ],
 "metadata": {
  "kernelspec": {
   "display_name": "Python 3 (ipykernel)",
   "language": "python",
   "name": "python3"
  },
  "language_info": {
   "codemirror_mode": {
    "name": "ipython",
    "version": 3
   },
   "file_extension": ".py",
   "mimetype": "text/x-python",
   "name": "python",
   "nbconvert_exporter": "python",
   "pygments_lexer": "ipython3",
   "version": "3.9.12"
  }
 },
 "nbformat": 4,
 "nbformat_minor": 5
}
